{
 "cells": [
  {
   "cell_type": "code",
   "execution_count": null,
   "metadata": {},
   "outputs": [],
   "source": [
    "# This is my List Notebook"
   ]
  },
  {
   "cell_type": "markdown",
   "metadata": {},
   "source": [
    "List are used to store multiple items in single variable,list is one of the 4 built in datatype in python used to store collection of data the other three are tuple,set and dictionary all with different qualuities and usage.list is created using square bracket[ ]."
   ]
  },
  {
   "cell_type": "markdown",
   "metadata": {},
   "source": [
    "### List methods:-"
   ]
  },
  {
   "cell_type": "markdown",
   "metadata": {},
   "source": [
    "- List length\n",
    "- Change range of index \n",
    "- Change list items\n",
    "- Insert\n",
    "- Append\n",
    "- Extend\n",
    "- Remove\n",
    "- Clear\n",
    "- Sort\n",
    "- Copy\n",
    "- Reverse\n",
    "- Join\n",
    "                                \n"
   ]
  },
  {
   "cell_type": "code",
   "execution_count": null,
   "metadata": {},
   "outputs": [],
   "source": [
    "#Assign a list to a variable my_list\n",
    "my_list= [1,2,3,4,5]\n",
    "print(my_list)"
   ]
  },
  {
   "cell_type": "code",
   "execution_count": 3,
   "metadata": {},
   "outputs": [
    {
     "name": "stdout",
     "output_type": "stream",
     "text": [
      "['apple', 'banana', 'kiwi', 'mango']\n"
     ]
    }
   ],
   "source": [
    "thislist=[\"apple\",\"banana\",\"kiwi\",\"mango\"]\n",
    "print(thislist)"
   ]
  },
  {
   "cell_type": "markdown",
   "metadata": {},
   "source": [
    "###  list length:- "
   ]
  },
  {
   "cell_type": "markdown",
   "metadata": {},
   "source": [
    "To determine how many function dose list have use len() function."
   ]
  },
  {
   "cell_type": "code",
   "execution_count": 4,
   "metadata": {},
   "outputs": [
    {
     "name": "stdout",
     "output_type": "stream",
     "text": [
      "3\n"
     ]
    }
   ],
   "source": [
    "my_list=[\"shaik\",\"rabi\",\"ahmed\"]\n",
    "print(len(my_list))"
   ]
  },
  {
   "cell_type": "code",
   "execution_count": 5,
   "metadata": {},
   "outputs": [
    {
     "name": "stdout",
     "output_type": "stream",
     "text": [
      "6\n"
     ]
    }
   ],
   "source": [
    "thislist=[16,32,35,44,58,60,]\n",
    "print(len(thislist))"
   ]
  },
  {
   "cell_type": "markdown",
   "metadata": {},
   "source": [
    "###     List items and Datatypes:-"
   ]
  },
  {
   "cell_type": "markdown",
   "metadata": {},
   "source": [
    "List can be any datatype.\n",
    "Ex:- String,int,boolean,float.\n",
    "list1= [\"apple\",\"banana\",\"kiwi\"]\n",
    "list2= [1,2,3,4,5,]\n",
    "list3= [true,false,true]\n",
    "list4= [22.4,44.5,55.6]"
   ]
  },
  {
   "cell_type": "code",
   "execution_count": 6,
   "metadata": {},
   "outputs": [],
   "source": [
    "list1=[\"male\",12,\"true\",10.5]"
   ]
  },
  {
   "cell_type": "markdown",
   "metadata": {},
   "source": [
    "### type() :-"
   ]
  },
  {
   "cell_type": "markdown",
   "metadata": {},
   "source": [
    "From Python prespective lists are defined as objects with the datatype list."
   ]
  },
  {
   "cell_type": "markdown",
   "metadata": {},
   "source": [
    "Ex:- What is the type of List ?"
   ]
  },
  {
   "cell_type": "code",
   "execution_count": 7,
   "metadata": {},
   "outputs": [
    {
     "name": "stdout",
     "output_type": "stream",
     "text": [
      "<class 'list'>\n"
     ]
    }
   ],
   "source": [
    "thislist=[\"Apple\",\"Banana\",\"Cherry\"]\n",
    "print(type(thislist))"
   ]
  },
  {
   "cell_type": "markdown",
   "metadata": {},
   "source": [
    "### Range of index:- "
   ]
  },
  {
   "cell_type": "markdown",
   "metadata": {},
   "source": [
    "You can specify range of index by specifing where to start and where to end range."
   ]
  },
  {
   "cell_type": "markdown",
   "metadata": {},
   "source": [
    "Ex:- Return second third and fourth item from list.\n"
   ]
  },
  {
   "cell_type": "code",
   "execution_count": 8,
   "metadata": {},
   "outputs": [
    {
     "name": "stdout",
     "output_type": "stream",
     "text": [
      "['mango', 'kiwi', 'orange']\n"
     ]
    }
   ],
   "source": [
    "my_list = [\"apple\", \"banana\", \"mango\", \"kiwi\", \"orange\", \"grapes\"]\n",
    "print(my_list[2:5])"
   ]
  },
  {
   "cell_type": "code",
   "execution_count": 9,
   "metadata": {},
   "outputs": [
    {
     "name": "stdout",
     "output_type": "stream",
     "text": [
      "[20, 30]\n"
     ]
    }
   ],
   "source": [
    "my_list = [10,20,30,40,60,70]\n",
    "print(my_list[1:3])"
   ]
  },
  {
   "cell_type": "markdown",
   "metadata": {},
   "source": [
    "### Change list items:-"
   ]
  },
  {
   "cell_type": "markdown",
   "metadata": {},
   "source": [
    "To change the value of the specific item refer the index number."
   ]
  },
  {
   "cell_type": "markdown",
   "metadata": {},
   "source": [
    "Ex:- Change the second item"
   ]
  },
  {
   "cell_type": "code",
   "execution_count": 10,
   "metadata": {},
   "outputs": [
    {
     "name": "stdout",
     "output_type": "stream",
     "text": [
      "['apple', 'kiwi', 'cherry']\n"
     ]
    }
   ],
   "source": [
    "thislist= [\"apple\",\"banana\",\"cherry\"]\n",
    "thislist[1]=\"kiwi\"\n",
    "print(thislist)"
   ]
  },
  {
   "cell_type": "markdown",
   "metadata": {},
   "source": [
    "Ex:-Change the range of index"
   ]
  },
  {
   "cell_type": "code",
   "execution_count": 11,
   "metadata": {},
   "outputs": [
    {
     "name": "stdout",
     "output_type": "stream",
     "text": [
      "['apple', 'kiwi', 'melon', 'orange', 'cherry']\n"
     ]
    }
   ],
   "source": [
    "thislist=[\"apple\",\"banana\",\"mango\",\"orange\",\"cherry\"]\n",
    "thislist[1:3]=[\"kiwi\",\"melon\"]\n",
    "print(thislist)"
   ]
  },
  {
   "cell_type": "markdown",
   "metadata": {},
   "source": [
    "### Insert Items:- "
   ]
  },
  {
   "cell_type": "markdown",
   "metadata": {},
   "source": [
    "To insert a new item without replacing the existing value then use insert() method."
   ]
  },
  {
   "cell_type": "markdown",
   "metadata": {},
   "source": [
    "Ex:- Insert melon at 2nd index"
   ]
  },
  {
   "cell_type": "code",
   "execution_count": 12,
   "metadata": {},
   "outputs": [
    {
     "name": "stdout",
     "output_type": "stream",
     "text": [
      "['apple', 'banana', 'melon', 'cherry']\n"
     ]
    }
   ],
   "source": [
    "my_list=[\"apple\",\"banana\",\"cherry\"]\n",
    "my_list.insert(2,\"melon\")\n",
    "print(my_list)"
   ]
  },
  {
   "cell_type": "code",
   "execution_count": 13,
   "metadata": {},
   "outputs": [
    {
     "name": "stdout",
     "output_type": "stream",
     "text": [
      "[10, 23, 40, 44, 100, 56]\n"
     ]
    }
   ],
   "source": [
    "my_list=[10,23,40,44,56]\n",
    "my_list.insert(4,100)\n",
    "print(my_list)"
   ]
  },
  {
   "cell_type": "markdown",
   "metadata": {},
   "source": [
    "### Append:- "
   ]
  },
  {
   "cell_type": "markdown",
   "metadata": {},
   "source": [
    "To add any item at the end of the list use append() method. Append will take only 1 argument."
   ]
  },
  {
   "cell_type": "markdown",
   "metadata": {},
   "source": [
    "Ex:-"
   ]
  },
  {
   "cell_type": "code",
   "execution_count": 14,
   "metadata": {},
   "outputs": [
    {
     "name": "stdout",
     "output_type": "stream",
     "text": [
      "['shaik', 'rabi', 'ahmed']\n"
     ]
    }
   ],
   "source": [
    "thislist = [\"shaik\",\"rabi\"]\n",
    "thislist.append(\"ahmed\")\n",
    "print(thislist)"
   ]
  },
  {
   "cell_type": "code",
   "execution_count": 15,
   "metadata": {},
   "outputs": [
    {
     "name": "stdout",
     "output_type": "stream",
     "text": [
      "[10, 23, 43, 52, 66, 88, 12]\n"
     ]
    }
   ],
   "source": [
    "mylist = [10,23,43,52,66,88]\n",
    "mylist.append(12)\n",
    "print(mylist)"
   ]
  },
  {
   "cell_type": "markdown",
   "metadata": {},
   "source": [
    "### Extend list:- "
   ]
  },
  {
   "cell_type": "markdown",
   "metadata": {},
   "source": [
    "To append elements from another list to current list use the extend() method."
   ]
  },
  {
   "cell_type": "markdown",
   "metadata": {},
   "source": [
    "Ex:- Add the elements of Tropical to thislist."
   ]
  },
  {
   "cell_type": "code",
   "execution_count": 16,
   "metadata": {},
   "outputs": [
    {
     "name": "stdout",
     "output_type": "stream",
     "text": [
      "[10, 20, 30, 40, 50, 60, 70]\n"
     ]
    }
   ],
   "source": [
    "thislist = [10,20,30,40]\n",
    "tropical = [50,60,70]\n",
    "thislist.extend(tropical)\n",
    "print(thislist)"
   ]
  },
  {
   "cell_type": "code",
   "execution_count": 17,
   "metadata": {},
   "outputs": [
    {
     "name": "stdout",
     "output_type": "stream",
     "text": [
      "['shaik', 'rabi', 'ahemd', 23, 'completed Graduation']\n"
     ]
    }
   ],
   "source": [
    "thislist = [\"shaik\",\"rabi\",\"ahemd\"]\n",
    "mydetails = [23,\"completed Graduation\"]\n",
    "thislist.extend(mydetails)\n",
    "print(thislist)"
   ]
  },
  {
   "cell_type": "markdown",
   "metadata": {},
   "source": [
    "### Remove list items:- "
   ]
  },
  {
   "cell_type": "markdown",
   "metadata": {},
   "source": [
    "Remove specified item, the remove() method remove the specified item from the list."
   ]
  },
  {
   "cell_type": "code",
   "execution_count": 18,
   "metadata": {},
   "outputs": [
    {
     "name": "stdout",
     "output_type": "stream",
     "text": [
      "['apple', 'cherry']\n"
     ]
    }
   ],
   "source": [
    "thislist=[\"apple\",\"banana\",\"cherry\"]\n",
    "thislist.remove(\"banana\")\n",
    "print(thislist)"
   ]
  },
  {
   "cell_type": "code",
   "execution_count": 19,
   "metadata": {},
   "outputs": [
    {
     "name": "stdout",
     "output_type": "stream",
     "text": [
      "[12, 24, 76, 34, 55]\n"
     ]
    }
   ],
   "source": [
    "mylist =[12,24,56,76,34,55]\n",
    "mylist.remove(56)\n",
    "print(mylist)"
   ]
  },
  {
   "cell_type": "markdown",
   "metadata": {},
   "source": [
    "### Remove specified Index:- "
   ]
  },
  {
   "cell_type": "markdown",
   "metadata": {},
   "source": [
    "The pop() method removes the specified index."
   ]
  },
  {
   "cell_type": "markdown",
   "metadata": {},
   "source": [
    "Ex:- Remove Second item."
   ]
  },
  {
   "cell_type": "code",
   "execution_count": 20,
   "metadata": {},
   "outputs": [
    {
     "name": "stdout",
     "output_type": "stream",
     "text": [
      "['apple', 'cherry', 'mango']\n"
     ]
    }
   ],
   "source": [
    "thislist = [\"apple\",\"banana\",\"cherry\",\"mango\"]\n",
    "thislist.pop(1)\n",
    "print(thislist)"
   ]
  },
  {
   "cell_type": "markdown",
   "metadata": {},
   "source": [
    "Anothe key is del() same as pop."
   ]
  },
  {
   "cell_type": "code",
   "execution_count": 21,
   "metadata": {},
   "outputs": [
    {
     "name": "stdout",
     "output_type": "stream",
     "text": [
      "['banana', 'cherry', 'mango']\n"
     ]
    }
   ],
   "source": [
    "thislist = [\"apple\",\"banana\",\"cherry\",\"mango\"]\n",
    "del thislist[0]\n",
    "print(thislist)"
   ]
  },
  {
   "cell_type": "markdown",
   "metadata": {},
   "source": [
    "Ex:- Remove last item."
   ]
  },
  {
   "cell_type": "code",
   "execution_count": 22,
   "metadata": {},
   "outputs": [
    {
     "name": "stdout",
     "output_type": "stream",
     "text": [
      "['shaik', 'Rabi']\n"
     ]
    }
   ],
   "source": [
    "mylist = [\"shaik\",\"Rabi\",\"ahmed\"]\n",
    "mylist.pop()\n",
    "print(mylist)"
   ]
  },
  {
   "cell_type": "markdown",
   "metadata": {},
   "source": [
    "### Clear the list:-"
   ]
  },
  {
   "cell_type": "markdown",
   "metadata": {},
   "source": [
    "To clear() method empties the list, the list still remains but it has no content."
   ]
  },
  {
   "cell_type": "code",
   "execution_count": 23,
   "metadata": {},
   "outputs": [
    {
     "name": "stdout",
     "output_type": "stream",
     "text": [
      "[]\n"
     ]
    }
   ],
   "source": [
    "thislist = [\"apple\",\"banana\",\"mango\"]\n",
    "thislist.clear()\n",
    "print(thislist)"
   ]
  },
  {
   "cell_type": "code",
   "execution_count": 24,
   "metadata": {},
   "outputs": [
    {
     "name": "stdout",
     "output_type": "stream",
     "text": [
      "[]\n"
     ]
    }
   ],
   "source": [
    "mylist =[12,23,22,11,56]\n",
    "thislist.clear()\n",
    "print(thislist)"
   ]
  },
  {
   "cell_type": "markdown",
   "metadata": {},
   "source": [
    "### Loop through a list:-"
   ]
  },
  {
   "cell_type": "markdown",
   "metadata": {},
   "source": [
    "You can loop through the list items by using a for loop."
   ]
  },
  {
   "cell_type": "markdown",
   "metadata": {},
   "source": [
    "Ex:- Print all items in the list one by one."
   ]
  },
  {
   "cell_type": "code",
   "execution_count": 25,
   "metadata": {},
   "outputs": [
    {
     "name": "stdout",
     "output_type": "stream",
     "text": [
      "shaik\n",
      "rabi\n",
      "ahmed\n"
     ]
    }
   ],
   "source": [
    "mylist = [\"shaik\", \"rabi\", \"ahmed\"]\n",
    "for x in mylist:\n",
    "    print(x)"
   ]
  },
  {
   "cell_type": "markdown",
   "metadata": {},
   "source": [
    "### Loop through Index number:-"
   ]
  },
  {
   "cell_type": "markdown",
   "metadata": {},
   "source": [
    "You can also loop through the list item by refering to their index number, use the range() and len() to create a suitable iterator."
   ]
  },
  {
   "cell_type": "markdown",
   "metadata": {},
   "source": [
    "Ex:- Print all the items referring to their index number"
   ]
  },
  {
   "cell_type": "code",
   "execution_count": 26,
   "metadata": {},
   "outputs": [
    {
     "name": "stdout",
     "output_type": "stream",
     "text": [
      "apple\n",
      "banana\n",
      "cherry\n"
     ]
    }
   ],
   "source": [
    "mylist = [\"apple\", \"banana\", \"cherry\"]\n",
    "\n",
    "for i in range(len(mylist)):\n",
    "    print(mylist[i])"
   ]
  },
  {
   "cell_type": "code",
   "execution_count": 27,
   "metadata": {},
   "outputs": [
    {
     "name": "stdout",
     "output_type": "stream",
     "text": [
      "1\n",
      "2\n",
      "3\n",
      "4\n",
      "5\n",
      "6\n"
     ]
    }
   ],
   "source": [
    "thislist = [1,2,3,4,5,6]\n",
    "for i in range(len(thislist)):\n",
    "    print(thislist[i])"
   ]
  },
  {
   "cell_type": "markdown",
   "metadata": {},
   "source": [
    "### Using a While loop:-"
   ]
  },
  {
   "cell_type": "markdown",
   "metadata": {},
   "source": [
    "You can loop through the list items by using a while loop, \n",
    "Use the len() function to determine the length of the list start at 0 and loop your way through the list items by referring their index,\n",
    "Remember to increase the index by 1 after each iteration."
   ]
  },
  {
   "cell_type": "markdown",
   "metadata": {},
   "source": [
    "Ex:- print all items using a while loop to go through all the index numbers."
   ]
  },
  {
   "cell_type": "code",
   "execution_count": 28,
   "metadata": {},
   "outputs": [
    {
     "name": "stdout",
     "output_type": "stream",
     "text": [
      "shaik\n",
      "rabi\n",
      "ahmed\n"
     ]
    }
   ],
   "source": [
    "mylist = [\"shaik\", \"rabi\", \"ahmed\"]\n",
    "i = 0\n",
    "while i<len(mylist):\n",
    "    print(mylist[i])\n",
    "    i = i+1"
   ]
  },
  {
   "cell_type": "markdown",
   "metadata": {},
   "source": [
    "Ex:- int example"
   ]
  },
  {
   "cell_type": "code",
   "execution_count": 29,
   "metadata": {},
   "outputs": [
    {
     "name": "stdout",
     "output_type": "stream",
     "text": [
      "10\n",
      "20\n",
      "30\n",
      "40\n",
      "50\n"
     ]
    }
   ],
   "source": [
    "thislist = [10,20,30,40,50]\n",
    "i = 0\n",
    "while i < len(thislist):\n",
    "    print(thislist[i])\n",
    "    i = i + 1"
   ]
  },
  {
   "cell_type": "markdown",
   "metadata": {},
   "source": [
    "### Sort list Alphanumerically "
   ]
  },
  {
   "cell_type": "markdown",
   "metadata": {},
   "source": [
    "List objects have a sort() method to arrange a list in ascending order."
   ]
  },
  {
   "cell_type": "markdown",
   "metadata": {},
   "source": [
    "Ex:-"
   ]
  },
  {
   "cell_type": "code",
   "execution_count": 36,
   "metadata": {},
   "outputs": [
    {
     "name": "stdout",
     "output_type": "stream",
     "text": [
      "['apple', 'banana', 'kiwi', 'orange']\n"
     ]
    }
   ],
   "source": [
    "mylist = [\"orange\", \"banana\",\"apple\",\"kiwi\"]\n",
    "mylist.sort()\n",
    "print(mylist)"
   ]
  },
  {
   "cell_type": "markdown",
   "metadata": {},
   "source": [
    "Ex:-"
   ]
  },
  {
   "cell_type": "code",
   "execution_count": 37,
   "metadata": {},
   "outputs": [
    {
     "name": "stdout",
     "output_type": "stream",
     "text": [
      "[10, 20, 30, 40, 50]\n"
     ]
    }
   ],
   "source": [
    "thislist = [50,40,30,20,10]\n",
    "thislist.sort()\n",
    "print(thislist)"
   ]
  },
  {
   "cell_type": "markdown",
   "metadata": {},
   "source": [
    "### Sort list in decending:-"
   ]
  },
  {
   "cell_type": "code",
   "execution_count": 43,
   "metadata": {},
   "outputs": [
    {
     "name": "stdout",
     "output_type": "stream",
     "text": [
      "[90, 68, 55, 50, 23]\n"
     ]
    }
   ],
   "source": [
    "mylist = [90, 50, 23, 55, 68]\n",
    "mylist.sort(reverse = True)\n",
    "print(mylist)"
   ]
  },
  {
   "cell_type": "code",
   "execution_count": 44,
   "metadata": {},
   "outputs": [
    {
     "name": "stdout",
     "output_type": "stream",
     "text": [
      "['melon', 'kiwi', 'banana', 'apple']\n"
     ]
    }
   ],
   "source": [
    "thislist = [\"apple\", \"banana\", \"kiwi\", \"melon\"]\n",
    "thislist.sort(reverse = True)\n",
    "print(thislist)"
   ]
  },
  {
   "cell_type": "markdown",
   "metadata": {},
   "source": [
    "### Copy Method:-"
   ]
  },
  {
   "cell_type": "markdown",
   "metadata": {},
   "source": [
    "You can use built in list method copy() to copy a list."
   ]
  },
  {
   "cell_type": "markdown",
   "metadata": {},
   "source": [
    "Ex:- Make a copy of list with copy method."
   ]
  },
  {
   "cell_type": "code",
   "execution_count": 45,
   "metadata": {},
   "outputs": [
    {
     "name": "stdout",
     "output_type": "stream",
     "text": [
      "['shaik', 'rabi', 'ahmed']\n"
     ]
    }
   ],
   "source": [
    "thislist = [\"shaik\", \"rabi\", \"ahmed\"]\n",
    "thislist.copy()\n",
    "print(thislist)"
   ]
  },
  {
   "cell_type": "code",
   "execution_count": 46,
   "metadata": {},
   "outputs": [
    {
     "name": "stdout",
     "output_type": "stream",
     "text": [
      "[10, 20, 30, 40, 50]\n"
     ]
    }
   ],
   "source": [
    "mylist = [10,20,30,40,50]\n",
    "mylist.copy()\n",
    "print(mylist)"
   ]
  },
  {
   "cell_type": "markdown",
   "metadata": {},
   "source": [
    "### Reverse the order of list items "
   ]
  },
  {
   "cell_type": "code",
   "execution_count": 47,
   "metadata": {},
   "outputs": [
    {
     "name": "stdout",
     "output_type": "stream",
     "text": [
      "['ahmed', 'rabi', 'shaik']\n"
     ]
    }
   ],
   "source": [
    "thislist = [\"shaik\", \"rabi\", \"ahmed\"]\n",
    "thislist.reverse()\n",
    "print(thislist)"
   ]
  },
  {
   "cell_type": "code",
   "execution_count": 48,
   "metadata": {},
   "outputs": [
    {
     "name": "stdout",
     "output_type": "stream",
     "text": [
      "[50, 40, 30, 20, 10]\n"
     ]
    }
   ],
   "source": [
    "mylist = [10,20,30,40,50]\n",
    "mylist.reverse()\n",
    "print(mylist)"
   ]
  },
  {
   "cell_type": "markdown",
   "metadata": {},
   "source": [
    "### Join two lists:- "
   ]
  },
  {
   "cell_type": "markdown",
   "metadata": {},
   "source": [
    "There are several ways to join or concatinate the list but the easiest way is + operator"
   ]
  },
  {
   "cell_type": "code",
   "execution_count": 51,
   "metadata": {},
   "outputs": [
    {
     "name": "stdout",
     "output_type": "stream",
     "text": [
      "['a', 'b', 'c', 1, 2, 3]\n"
     ]
    }
   ],
   "source": [
    "list1 = [\"a\", \"b\", \"c\"]\n",
    "list2 = [1, 2, 3,]\n",
    "list3 = list1 + list2\n",
    "print(list3)"
   ]
  },
  {
   "cell_type": "markdown",
   "metadata": {},
   "source": [
    "--- Append  list will also do the same thing as join list."
   ]
  },
  {
   "cell_type": "code",
   "execution_count": 58,
   "metadata": {},
   "outputs": [
    {
     "name": "stdout",
     "output_type": "stream",
     "text": [
      "['apple', 'banana', 'cherry', 10, 20, 30]\n"
     ]
    }
   ],
   "source": [
    "list1 = [\"apple\", \"banana\", \"cherry\"]\n",
    "list2 = [10, 20, 30]\n",
    "for x in list2:\n",
    " list1.append(x)\n",
    "print(list1)"
   ]
  },
  {
   "cell_type": "code",
   "execution_count": 38,
   "metadata": {},
   "outputs": [
    {
     "name": "stdout",
     "output_type": "stream",
     "text": [
      "Tobias\n"
     ]
    }
   ],
   "source": [
    "print(myfamily[\"child2\"][\"name\"])\n"
   ]
  },
  {
   "cell_type": "markdown",
   "metadata": {},
   "source": [
    "\n"
   ]
  },
  {
   "cell_type": "markdown",
   "metadata": {},
   "source": []
  },
  {
   "cell_type": "code",
   "execution_count": 36,
   "metadata": {},
   "outputs": [],
   "source": [
    "myfamily = {\n",
    "  \"child1\" : {\n",
    "    \"name\" : \"Emil\",\n",
    "    \"year\" : 2004\n",
    "  },\n",
    "  \"child2\" : {\n",
    "    \"name\" : \"Tobias\",\n",
    "    \"year\" : 2007\n",
    "  },\n",
    "  \"child3\" : {\n",
    "    \"name\" : \"Linus\",\n",
    "    \"year\" : 2011\n",
    "  }\n",
    "}"
   ]
  },
  {
   "cell_type": "code",
   "execution_count": 34,
   "metadata": {},
   "outputs": [
    {
     "name": "stdout",
     "output_type": "stream",
     "text": [
      "{'brand': 'Ford', 'model': 'Mustang'}\n"
     ]
    }
   ],
   "source": [
    "thisdict = {\n",
    "  \"brand\": \"Ford\",\n",
    "  \"model\": \"Mustang\",\n",
    "  \"year\": 1964\n",
    "}\n",
    "thisdict.popitem()\n",
    "print(thisdict)\n"
   ]
  },
  {
   "cell_type": "code",
   "execution_count": null,
   "metadata": {},
   "outputs": [],
   "source": []
  }
 ],
 "metadata": {
  "kernelspec": {
   "display_name": "Python 3",
   "language": "python",
   "name": "python3"
  },
  "language_info": {
   "codemirror_mode": {
    "name": "ipython",
    "version": 3
   },
   "file_extension": ".py",
   "mimetype": "text/x-python",
   "name": "python",
   "nbconvert_exporter": "python",
   "pygments_lexer": "ipython3",
   "version": "3.7.4"
  }
 },
 "nbformat": 4,
 "nbformat_minor": 2
}
